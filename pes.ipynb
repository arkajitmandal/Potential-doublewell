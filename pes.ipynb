{
 "cells": [
  {
   "cell_type": "code",
   "execution_count": 3,
   "metadata": {},
   "outputs": [],
   "source": [
    "from numpy import pi as π\n",
    "from ipywidgets import interact, interactive, fixed, interact_manual\n",
    "from IPython.display import display\n",
    "from IPython import display\n",
    "import matplotlib.pyplot as plt\n",
    "import numpy as np"
   ]
  },
  {
   "cell_type": "code",
   "execution_count": 7,
   "metadata": {},
   "outputs": [
    {
     "data": {
      "application/vnd.jupyter.widget-view+json": {
       "model_id": "aceca6bdef7c431f8a04d4d44dbe9b76",
       "version_major": 2,
       "version_minor": 0
      },
      "text/plain": [
       "interactive(children=(Text(value='0.06', description='wb'), Text(value='0.2', description='w1'), Text(value='0…"
      ]
     },
     "metadata": {},
     "output_type": "display_data"
    }
   ],
   "source": [
    "eV = 1.0 / 27.2114\n",
    "\n",
    "def Vnew(R, wb= 0.02, w0 = 0.14, R0 = 70.0, Eb = 0.4, Ep =  -0.2 ):\n",
    "    eV = 1.0 / 27.2114\n",
    "    #w0 *= eV\n",
    "    wb *= eV\n",
    "    Eb *= eV\n",
    "    Ep = Ep * eV\n",
    "    HR = HO(R, -R0[0], w0[0] * eV)\n",
    "    HP = HO(R,  R0[1], w0[1] * eV) + Ep\n",
    "    Hv = (Eb-HO(R, 0, wb)) + 1E3 * (1-(R>-R0[0]))  + 1E3 * (1-(R< R0[1]))\n",
    "    \n",
    "    R1 = -R[np.argmin(np.abs(HR - Hv))]\n",
    "\n",
    "    #µR = R-R0[0]\n",
    "    \n",
    "    dS =  0.025 * eV\n",
    "    E = np.zeros((len(R)))\n",
    "    for iR in range(len(R)):\n",
    "        Ei = np.zeros((3,3))\n",
    "        Ei[0,0], Ei[1,1], Ei[2,2] =  HR[iR], Hv[iR], HP[iR]\n",
    "        Ei[0,1], Ei[1,2] = dS, dS \n",
    "        Ei[1,0], Ei[2,1] = dS, dS\n",
    "        Eii, V = np.linalg.eigh(Ei)\n",
    "        E[iR] = Eii[0]\n",
    "\n",
    "    return E \n",
    "\n",
    "\n",
    "def HO(R, R0,w):\n",
    "    return 0.5 * (R-R0)**2 * w**2\n",
    "\n",
    "@interact_manual\n",
    "def show(wb= '0.06', w1 = '0.2', w2 = '0.2', R1 = '40.0', R2 = '40.0', Eb= '0.37', Ep = '-0.00' ):\n",
    "    NR = 512\n",
    "    Rmax = 160\n",
    "    R = np.linspace(-Rmax,Rmax,NR)\n",
    "    w0 = np.array([float(w1),float(w2)])\n",
    "    R0 = np.array([float(R1),float(R2)])\n",
    "    V = Vnew(R,float(wb),w0,R0,float(Eb), float(Ep)) \n",
    "    \n",
    "    width=3.375 * 3\n",
    "    aspect_ratio=1.61\n",
    "    fig_size = (width, width / aspect_ratio)\n",
    "    plt.figure(figsize=fig_size)\n",
    "    plt.ylim(-0.01,0.6)\n",
    "    plt.xlim(-100,100)\n",
    "    \n",
    "    plt.plot(R,  V/ eV, c =  \"#000000\", lw = 2)\n",
    "\n",
    "    plt.xlabel(r'Q (a.u.)')\n",
    "    plt.ylabel(r'Energy (eV)')\n",
    "    plt.tick_params(axis='y', which='major', pad=15)\n",
    "    plt.tick_params(axis='x', which='major', pad=15)\n",
    "    #plt.ticklabel_format(axis='both', style='sci', scilimits=(0,0))\n",
    "    w = 0.2/27.2114\n",
    "    #plt.plot(R, (0.5 * w**2 * (R-40)**2) * 27.2114 )\n",
    "    #plt.savefig(\"potential.pdf\", bbox_inches=\"tight\")\n"
   ]
  },
  {
   "cell_type": "code",
   "execution_count": null,
   "metadata": {},
   "outputs": [],
   "source": []
  }
 ],
 "metadata": {
  "interpreter": {
   "hash": "40d3a090f54c6569ab1632332b64b2c03c39dcf918b08424e98f38b5ae0af88f"
  },
  "kernelspec": {
   "display_name": "Python 3.8.8 ('base')",
   "language": "python",
   "name": "python3"
  },
  "language_info": {
   "codemirror_mode": {
    "name": "ipython",
    "version": 3
   },
   "file_extension": ".py",
   "mimetype": "text/x-python",
   "name": "python",
   "nbconvert_exporter": "python",
   "pygments_lexer": "ipython3",
   "version": "3.8.8"
  },
  "orig_nbformat": 4
 },
 "nbformat": 4,
 "nbformat_minor": 2
}
